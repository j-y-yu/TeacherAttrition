{
 "cells": [
  {
   "cell_type": "code",
   "execution_count": 1,
   "id": "2de8292c",
   "metadata": {},
   "outputs": [],
   "source": [
    "import pandas as pd\n",
    "import numpy as np\n",
    "import seaborn as sns\n",
    "import matplotlib.pyplot as plt"
   ]
  },
  {
   "cell_type": "code",
   "execution_count": 2,
   "id": "01c26487",
   "metadata": {},
   "outputs": [],
   "source": [
    "from sklearn.preprocessing import StandardScaler\n",
    "from sklearn.model_selection import train_test_split, GridSearchCV\n",
    "# from sklearn.model_selection import GridSearchCV\n",
    "# from sklearn.pipeline import Pipeline\n",
    "# from sklearn.model_selection import cross_val_score\n",
    "from sklearn.metrics import classification_report, confusion_matrix, ConfusionMatrixDisplay\n",
    "from sklearn.metrics import accuracy_score, balanced_accuracy_score, precision_score, recall_score, f1_score, matthews_corrcoef, roc_auc_score\n",
    "from mlxtend.plotting import plot_confusion_matrix\n",
    "\n",
    "import tensorflow as tf\n",
    "from tensorflow import keras\n",
    "from tensorflow.keras import layers\n",
    "# from keras.wrappers.scikit_learn import KerasClassifier\n",
    "from scikeras.wrappers import KerasClassifier"
   ]
  },
  {
   "cell_type": "code",
   "execution_count": 3,
   "id": "e2f8cb16",
   "metadata": {},
   "outputs": [
    {
     "name": "stdout",
     "output_type": "stream",
     "text": [
      "(3640, 155)\n"
     ]
    },
    {
     "data": {
      "text/html": [
       "<div>\n",
       "<style scoped>\n",
       "    .dataframe tbody tr th:only-of-type {\n",
       "        vertical-align: middle;\n",
       "    }\n",
       "\n",
       "    .dataframe tbody tr th {\n",
       "        vertical-align: top;\n",
       "    }\n",
       "\n",
       "    .dataframe thead th {\n",
       "        text-align: right;\n",
       "    }\n",
       "</style>\n",
       "<table border=\"1\" class=\"dataframe\">\n",
       "  <thead>\n",
       "    <tr style=\"text-align: right;\">\n",
       "      <th></th>\n",
       "      <th>CNTLNUM_T</th>\n",
       "      <th>SCHCNTL</th>\n",
       "      <th>CNTLNUM_P</th>\n",
       "      <th>label_Current</th>\n",
       "      <th>age_T</th>\n",
       "      <th>earnings_total</th>\n",
       "      <th>earnings_school</th>\n",
       "      <th>base_salary_T</th>\n",
       "      <th>num_dependents</th>\n",
       "      <th>dependents_age5</th>\n",
       "      <th>...</th>\n",
       "      <th>incen_reten_english</th>\n",
       "      <th>incen_reten_soc_studies</th>\n",
       "      <th>incen_reten_STEM_comp_sci</th>\n",
       "      <th>incen_reten_STEM_math</th>\n",
       "      <th>incen_reten_STEM_phys_sci</th>\n",
       "      <th>incen_reten_STEM_biology</th>\n",
       "      <th>incen_reten_esl</th>\n",
       "      <th>incen_reten_foreign_lang</th>\n",
       "      <th>incen_reten_music_art</th>\n",
       "      <th>incen_reten_voc_ed</th>\n",
       "    </tr>\n",
       "  </thead>\n",
       "  <tbody>\n",
       "    <tr>\n",
       "      <th>0</th>\n",
       "      <td>143668</td>\n",
       "      <td>100019</td>\n",
       "      <td>101276</td>\n",
       "      <td>0</td>\n",
       "      <td>3</td>\n",
       "      <td>3</td>\n",
       "      <td>3</td>\n",
       "      <td>4</td>\n",
       "      <td>4</td>\n",
       "      <td>0</td>\n",
       "      <td>...</td>\n",
       "      <td>0</td>\n",
       "      <td>0</td>\n",
       "      <td>0</td>\n",
       "      <td>0</td>\n",
       "      <td>0</td>\n",
       "      <td>0</td>\n",
       "      <td>1</td>\n",
       "      <td>0</td>\n",
       "      <td>0</td>\n",
       "      <td>1</td>\n",
       "    </tr>\n",
       "    <tr>\n",
       "      <th>1</th>\n",
       "      <td>147352</td>\n",
       "      <td>100029</td>\n",
       "      <td>103310</td>\n",
       "      <td>0</td>\n",
       "      <td>1</td>\n",
       "      <td>2</td>\n",
       "      <td>2</td>\n",
       "      <td>2</td>\n",
       "      <td>4</td>\n",
       "      <td>2</td>\n",
       "      <td>...</td>\n",
       "      <td>0</td>\n",
       "      <td>0</td>\n",
       "      <td>0</td>\n",
       "      <td>0</td>\n",
       "      <td>0</td>\n",
       "      <td>0</td>\n",
       "      <td>0</td>\n",
       "      <td>0</td>\n",
       "      <td>0</td>\n",
       "      <td>0</td>\n",
       "    </tr>\n",
       "    <tr>\n",
       "      <th>2</th>\n",
       "      <td>141414</td>\n",
       "      <td>100053</td>\n",
       "      <td>108866</td>\n",
       "      <td>0</td>\n",
       "      <td>3</td>\n",
       "      <td>4</td>\n",
       "      <td>3</td>\n",
       "      <td>4</td>\n",
       "      <td>4</td>\n",
       "      <td>0</td>\n",
       "      <td>...</td>\n",
       "      <td>0</td>\n",
       "      <td>0</td>\n",
       "      <td>0</td>\n",
       "      <td>0</td>\n",
       "      <td>0</td>\n",
       "      <td>0</td>\n",
       "      <td>0</td>\n",
       "      <td>0</td>\n",
       "      <td>0</td>\n",
       "      <td>0</td>\n",
       "    </tr>\n",
       "    <tr>\n",
       "      <th>3</th>\n",
       "      <td>131108</td>\n",
       "      <td>100056</td>\n",
       "      <td>102684</td>\n",
       "      <td>0</td>\n",
       "      <td>3</td>\n",
       "      <td>4</td>\n",
       "      <td>2</td>\n",
       "      <td>3</td>\n",
       "      <td>2</td>\n",
       "      <td>0</td>\n",
       "      <td>...</td>\n",
       "      <td>0</td>\n",
       "      <td>0</td>\n",
       "      <td>0</td>\n",
       "      <td>0</td>\n",
       "      <td>0</td>\n",
       "      <td>0</td>\n",
       "      <td>0</td>\n",
       "      <td>0</td>\n",
       "      <td>0</td>\n",
       "      <td>0</td>\n",
       "    </tr>\n",
       "    <tr>\n",
       "      <th>4</th>\n",
       "      <td>139862</td>\n",
       "      <td>100062</td>\n",
       "      <td>104721</td>\n",
       "      <td>0</td>\n",
       "      <td>3</td>\n",
       "      <td>3</td>\n",
       "      <td>3</td>\n",
       "      <td>3</td>\n",
       "      <td>1</td>\n",
       "      <td>0</td>\n",
       "      <td>...</td>\n",
       "      <td>0</td>\n",
       "      <td>0</td>\n",
       "      <td>0</td>\n",
       "      <td>0</td>\n",
       "      <td>0</td>\n",
       "      <td>0</td>\n",
       "      <td>0</td>\n",
       "      <td>0</td>\n",
       "      <td>0</td>\n",
       "      <td>0</td>\n",
       "    </tr>\n",
       "  </tbody>\n",
       "</table>\n",
       "<p>5 rows × 155 columns</p>\n",
       "</div>"
      ],
      "text/plain": [
       "   CNTLNUM_T  SCHCNTL  CNTLNUM_P  label_Current  age_T  earnings_total  \\\n",
       "0     143668   100019     101276              0      3               3   \n",
       "1     147352   100029     103310              0      1               2   \n",
       "2     141414   100053     108866              0      3               4   \n",
       "3     131108   100056     102684              0      3               4   \n",
       "4     139862   100062     104721              0      3               3   \n",
       "\n",
       "   earnings_school  base_salary_T  num_dependents  dependents_age5  ...  \\\n",
       "0                3              4               4                0  ...   \n",
       "1                2              2               4                2  ...   \n",
       "2                3              4               4                0  ...   \n",
       "3                2              3               2                0  ...   \n",
       "4                3              3               1                0  ...   \n",
       "\n",
       "   incen_reten_english  incen_reten_soc_studies  incen_reten_STEM_comp_sci  \\\n",
       "0                    0                        0                          0   \n",
       "1                    0                        0                          0   \n",
       "2                    0                        0                          0   \n",
       "3                    0                        0                          0   \n",
       "4                    0                        0                          0   \n",
       "\n",
       "   incen_reten_STEM_math  incen_reten_STEM_phys_sci  incen_reten_STEM_biology  \\\n",
       "0                      0                          0                         0   \n",
       "1                      0                          0                         0   \n",
       "2                      0                          0                         0   \n",
       "3                      0                          0                         0   \n",
       "4                      0                          0                         0   \n",
       "\n",
       "   incen_reten_esl  incen_reten_foreign_lang  incen_reten_music_art  \\\n",
       "0                1                         0                      0   \n",
       "1                0                         0                      0   \n",
       "2                0                         0                      0   \n",
       "3                0                         0                      0   \n",
       "4                0                         0                      0   \n",
       "\n",
       "   incen_reten_voc_ed  \n",
       "0                   1  \n",
       "1                   0  \n",
       "2                   0  \n",
       "3                   0  \n",
       "4                   0  \n",
       "\n",
       "[5 rows x 155 columns]"
      ]
     },
     "execution_count": 3,
     "metadata": {},
     "output_type": "execute_result"
    }
   ],
   "source": [
    "df=pd.read_csv('../data/data_clean/SASS_cleaned_v1.csv', sep=',', header=0)\n",
    "print(df.shape)\n",
    "df.head()"
   ]
  },
  {
   "cell_type": "markdown",
   "id": "a7373d2d",
   "metadata": {},
   "source": [
    "**Split data**"
   ]
  },
  {
   "cell_type": "code",
   "execution_count": 4,
   "id": "20f38fc9",
   "metadata": {},
   "outputs": [
    {
     "name": "stdout",
     "output_type": "stream",
     "text": [
      "Data size (3640, 151) class proportions [1464 2176]\n",
      "Train size (2912, 151) class proportions [1171 1741]\n",
      "Test size (728, 151) class proportions [293 435]\n"
     ]
    }
   ],
   "source": [
    "cols_drop=['CNTLNUM_T', 'SCHCNTL', 'CNTLNUM_P','label_Current']\n",
    "y=df['label_Current'].values\n",
    "X=df.drop(columns=cols_drop, axis=1).values\n",
    "X_name=df.drop(columns=cols_drop, axis=1)\n",
    "cols=df.drop(columns=cols_drop, axis=1).columns\n",
    "\n",
    "scaler=StandardScaler()\n",
    "X_scale=scaler.fit_transform(X)\n",
    "\n",
    "X_train, X_test, y_train, y_test = train_test_split(X_scale, y, test_size=0.2, random_state=123, shuffle=True, stratify=y)\n",
    "\n",
    "print('Data size', X.shape, 'class proportions', np.bincount(y))\n",
    "print('Train size', X_train.shape, 'class proportions', np.bincount(y_train))\n",
    "print('Test size', X_test.shape, 'class proportions', np.bincount(y_test))"
   ]
  },
  {
   "cell_type": "code",
   "execution_count": 5,
   "id": "74f2f5f2",
   "metadata": {},
   "outputs": [
    {
     "data": {
      "text/plain": [
       "[]"
      ]
     },
     "execution_count": 5,
     "metadata": {},
     "output_type": "execute_result"
    }
   ],
   "source": [
    "physical_devices = tf.config.experimental.list_physical_devices('GPU')\n",
    "if len(physical_devices) > 0:\n",
    "    print(physical_devices[0])\n",
    "    tf.config.experimental.set_memory_growth(physical_devices[0], True)\n",
    "physical_devices"
   ]
  },
  {
   "cell_type": "markdown",
   "id": "c933293f",
   "metadata": {},
   "source": [
    "**Neural Network**"
   ]
  },
  {
   "cell_type": "code",
   "execution_count": 6,
   "id": "0e83d8c4",
   "metadata": {},
   "outputs": [],
   "source": [
    "tf.random.set_seed(42)\n",
    "\n",
    "def model_fn():\n",
    "    model = tf.keras.Sequential([\n",
    "    tf.keras.layers.Dense(130, input_dim=X_train.shape[1], activation='relu'),\n",
    "    tf.keras.layers.Dense(1, activation='sigmoid')])\n",
    "\n",
    "    model.compile(\n",
    "        loss = tf.keras.losses.binary_crossentropy,\n",
    "        optimizer=tf.keras.optimizers.SGD(learning_rate=0.01),\n",
    "        metrics = [\n",
    "            tf.keras.metrics.BinaryAccuracy(name='accuracy'),\n",
    "            tf.keras.metrics.Precision(name='precision'),\n",
    "            tf.keras.metrics.Recall(name='recall')])\n",
    "    return model"
   ]
  },
  {
   "cell_type": "code",
   "execution_count": 7,
   "id": "269c3216",
   "metadata": {},
   "outputs": [
    {
     "name": "stdout",
     "output_type": "stream",
     "text": [
      "Wall time: 8.35 s\n"
     ]
    }
   ],
   "source": [
    "%%time\n",
    "estimator = KerasClassifier(model=model_fn, epochs=100, verbose=0)\n",
    "hist = estimator.fit(X_train, y_train)"
   ]
  },
  {
   "cell_type": "code",
   "execution_count": 8,
   "id": "aaf681de",
   "metadata": {},
   "outputs": [
    {
     "data": {
      "image/png": "[encoded data removed]",
      "text/plain": [
       "<Figure size 640x480 with 1 Axes>"
      ]
     },
     "metadata": {},
     "output_type": "display_data"
    }
   ],
   "source": [
    "plt.plot(hist.history_['accuracy'], label='accuracy')\n",
    "plt.plot(hist.history_['loss'], label = 'loss')\n",
    "plt.xlabel('Epoch')\n",
    "plt.ylabel('Accuracy/Loss')\n",
    "plt.ylim([0.0, 1])\n",
    "plt.legend(loc='lower right')\n",
    "plt.show()"
   ]
  },
  {
   "cell_type": "markdown",
   "id": "a37d29df",
   "metadata": {},
   "source": [
    "## Result"
   ]
  },
  {
   "cell_type": "code",
   "execution_count": 9,
   "id": "208aaa3a",
   "metadata": {},
   "outputs": [],
   "source": [
    "y_pred_train = estimator.predict(X_train)\n",
    "y_pred = estimator.predict(X_test)\n",
    "y_pred_proba = estimator.predict_proba(X_test)\n",
    "\n",
    "result = {'n Features': int(X_train.shape[1]),\n",
    "        'Train Accuracy': accuracy_score(y_train, y_pred_train),\n",
    "        'Test Accuracy': accuracy_score(y_test, y_pred),\n",
    "        'Precision': precision_score(y_test, y_pred),\n",
    "        'Recall': recall_score(y_test, y_pred),\n",
    "        'F1': f1_score(y_test, y_pred),\n",
    "        'MCC': matthews_corrcoef(y_test, y_pred), \n",
    "        'ROC': roc_auc_score(y_test, y_pred),\n",
    "        'conf_mat': confusion_matrix(y_test, y_pred), \n",
    "        'prediction': y_pred,\n",
    "        'predict_proba': y_pred_proba,\n",
    "        'classification_report': classification_report(y_test, y_pred)}"
   ]
  },
  {
   "cell_type": "code",
   "execution_count": 10,
   "id": "a8833693",
   "metadata": {},
   "outputs": [
    {
     "data": {
      "text/html": [
       "<div>\n",
       "<style scoped>\n",
       "    .dataframe tbody tr th:only-of-type {\n",
       "        vertical-align: middle;\n",
       "    }\n",
       "\n",
       "    .dataframe tbody tr th {\n",
       "        vertical-align: top;\n",
       "    }\n",
       "\n",
       "    .dataframe thead th {\n",
       "        text-align: right;\n",
       "    }\n",
       "</style>\n",
       "<table border=\"1\" class=\"dataframe\">\n",
       "  <thead>\n",
       "    <tr style=\"text-align: right;\">\n",
       "      <th></th>\n",
       "      <th>n Features</th>\n",
       "      <th>Train Accuracy</th>\n",
       "      <th>Test Accuracy</th>\n",
       "      <th>Precision</th>\n",
       "      <th>Recall</th>\n",
       "      <th>F1</th>\n",
       "      <th>MCC</th>\n",
       "      <th>ROC</th>\n",
       "      <th>conf_mat</th>\n",
       "      <th>prediction</th>\n",
       "      <th>predict_proba</th>\n",
       "      <th>classification_report</th>\n",
       "    </tr>\n",
       "  </thead>\n",
       "  <tbody>\n",
       "    <tr>\n",
       "      <th>0</th>\n",
       "      <td>151</td>\n",
       "      <td>0.978365</td>\n",
       "      <td>0.712912</td>\n",
       "      <td>0.760369</td>\n",
       "      <td>0.758621</td>\n",
       "      <td>0.759494</td>\n",
       "      <td>0.403449</td>\n",
       "      <td>0.701836</td>\n",
       "      <td>[[189, 104], [105, 330]]</td>\n",
       "      <td>[1, 0, 1, 0, 1, 0, 1, 0, 1, 1, 1, 1, 0, 1, 0, ...</td>\n",
       "      <td>[[0.013213873, 0.9867861], [0.75669456, 0.2433...</td>\n",
       "      <td>precision    recall  f1-score   ...</td>\n",
       "    </tr>\n",
       "  </tbody>\n",
       "</table>\n",
       "</div>"
      ],
      "text/plain": [
       "   n Features  Train Accuracy  Test Accuracy  Precision    Recall        F1  \\\n",
       "0         151        0.978365       0.712912   0.760369  0.758621  0.759494   \n",
       "\n",
       "        MCC       ROC                  conf_mat  \\\n",
       "0  0.403449  0.701836  [[189, 104], [105, 330]]   \n",
       "\n",
       "                                          prediction  \\\n",
       "0  [1, 0, 1, 0, 1, 0, 1, 0, 1, 1, 1, 1, 0, 1, 0, ...   \n",
       "\n",
       "                                       predict_proba  \\\n",
       "0  [[0.013213873, 0.9867861], [0.75669456, 0.2433...   \n",
       "\n",
       "                               classification_report  \n",
       "0                precision    recall  f1-score   ...  "
      ]
     },
     "execution_count": 10,
     "metadata": {},
     "output_type": "execute_result"
    }
   ],
   "source": [
    "pd.DataFrame([result])"
   ]
  },
  {
   "cell_type": "code",
   "execution_count": 11,
   "id": "1c4080c8",
   "metadata": {},
   "outputs": [
    {
     "data": {
      "image/png": "[encoded data removed]",
      "text/plain": [
       "<Figure size 400x400 with 1 Axes>"
      ]
     },
     "metadata": {},
     "output_type": "display_data"
    }
   ],
   "source": [
    "sns.set(font_scale=1.2, rc = {'figure.figsize':(4,4)})\n",
    "\n",
    "fig, ax=plot_confusion_matrix(conf_mat=result['conf_mat'], show_absolute=True, \n",
    "                              show_normed=True, class_names=['Former', 'Current'])\n",
    "ax.set(xlabel='Predicted Label', ylabel='True Label')\n",
    "plt.show()"
   ]
  },
  {
   "cell_type": "markdown",
   "id": "b5b6ccf2",
   "metadata": {},
   "source": [
    "**sklearn's MLP**"
   ]
  },
  {
   "cell_type": "code",
   "execution_count": 13,
   "id": "2693dc0a",
   "metadata": {},
   "outputs": [
    {
     "name": "stdout",
     "output_type": "stream",
     "text": [
      "Wall time: 3.69 s\n"
     ]
    },
    {
     "data": {
      "text/plain": [
       "MLPClassifier(hidden_layer_sizes=130, learning_rate_init=0.01, max_iter=1000,\n",
       "              random_state=123, solver='sgd')"
      ]
     },
     "execution_count": 13,
     "metadata": {},
     "output_type": "execute_result"
    }
   ],
   "source": [
    "%%time\n",
    "from sklearn.neural_network import MLPClassifier\n",
    "\n",
    "clf = MLPClassifier(hidden_layer_sizes=(130), max_iter=1000,\n",
    "                           activation = 'relu', solver='sgd', learning_rate_init=0.01, random_state=123)\n",
    "clf.fit(X_train, y_train)"
   ]
  },
  {
   "cell_type": "code",
   "execution_count": 20,
   "id": "ca50ec9e",
   "metadata": {},
   "outputs": [
    {
     "name": "stdout",
     "output_type": "stream",
     "text": [
      "Train Accuracy: 1.00\n",
      "Test Accuracy: 0.70\n",
      "Precision: 0.75\n",
      "Recall: 0.74\n",
      "MCC: 0.37\n",
      "F1: 0.74\n",
      "              precision    recall  f1-score   support\n",
      "\n",
      "           0       0.62      0.63      0.62       293\n",
      "           1       0.75      0.74      0.74       435\n",
      "\n",
      "    accuracy                           0.70       728\n",
      "   macro avg       0.68      0.68      0.68       728\n",
      "weighted avg       0.70      0.70      0.70       728\n",
      "\n"
     ]
    },
    {
     "data": {
      "image/png": "[encoded data removed]",
      "text/plain": [
       "<Figure size 400x400 with 1 Axes>"
      ]
     },
     "metadata": {},
     "output_type": "display_data"
    }
   ],
   "source": [
    "y_pred = clf.predict(X_test)\n",
    "print(\"Train Accuracy: {:0.2f}\".format(clf.score(X_train,y_train)))\n",
    "print(\"Test Accuracy: {:0.2f}\".format(clf.score(X_test,y_test)))\n",
    "print('Precision: {:0.2f}'.format(precision_score(y_test, y_pred)))\n",
    "print('Recall: {:0.2f}'.format(recall_score(y_test, y_pred)))\n",
    "print('MCC: {:0.2f}'.format(matthews_corrcoef(y_test, y_pred)))\n",
    "print('F1: {:0.2f}'.format(f1_score(y_test, y_pred)))          \n",
    "print(classification_report(y_test, y_pred))\n",
    "\n",
    "fig, ax=plot_confusion_matrix(conf_mat=confusion_matrix(y_test, y_pred), show_absolute=True, \n",
    "                              show_normed=True, class_names=['Former', 'Current'])\n",
    "\n",
    "ax.set(xlabel='Predicted Label', ylabel='True Label')\n",
    "plt.show()"
   ]
  }
 ],
 "metadata": {
  "kernelspec": {
   "display_name": "Python 3 (ipykernel)",
   "language": "python",
   "name": "python3"
  },
  "language_info": {
   "codemirror_mode": {
    "name": "ipython",
    "version": 3
   },
   "file_extension": ".py",
   "mimetype": "text/x-python",
   "name": "python",
   "nbconvert_exporter": "python",
   "pygments_lexer": "ipython3",
   "version": "3.7.13"
  }
 },
 "nbformat": 4,
 "nbformat_minor": 5
}
